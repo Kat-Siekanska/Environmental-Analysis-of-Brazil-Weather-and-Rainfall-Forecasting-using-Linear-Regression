{
 "cells": [
  {
   "cell_type": "markdown",
   "id": "064f7575-1257-467f-b7c7-2d698ecf7903",
   "metadata": {},
   "source": [
    "# Processing and Creating Dataframes\n",
    "#### Creating 4 separate datasets for each region's data, averaging values by month, day, hour and state to reduce size of dataset and consolidate data for analysis"
   ]
  },
  {
   "cell_type": "code",
   "execution_count": null,
   "id": "9e988980-8b55-4158-8f59-2b6a6a55d0ff",
   "metadata": {},
   "outputs": [],
   "source": [
    "#importing key libraries\n",
    "import pandas as pd\n",
    "import numpy as np\n",
    "import matplotlib.pyplot as plt\n",
    "from statsmodels.tsa.stattools import acf,pacf\n",
    "from statsmodels.graphics.tsaplots import plot_acf, plot_pacf"
   ]
  },
  {
   "cell_type": "code",
   "execution_count": null,
   "id": "25b5a84f-07ac-4e57-a6f4-de3954ceaebd",
   "metadata": {},
   "outputs": [],
   "source": [
    "#renaming columns\n",
    "renamed_columns = ['data','hora','precipitacao total,horario (mm)','pressao atmosferica ao nivel da estacao (mb)','pressao atmosferica max. na hora ant. (aut) (mb)','pressao atmosferica min. na hora ant. (aut) (mb)','radiation (kj/m2)','temperatura do ar - bulbo seco (°c)','temperatura do ponto de orvalho (°c)','temperatura maxima na hora ant. (aut) (°c)','temperatura minima na hora ant. (aut) (°c)','temperatura orvalho max. na hora ant. (aut) (°c)','temperatura orvalho min. na hora ant. (aut) (°c)','umidade rel. max. na hora ant. (aut) (%)','umidade rel. min. na hora ant. (aut) (%)','umidade relativa do ar, horaria (%)','vento direcao horaria (gr) (° (gr))','vento rajada maxima (m/s)','vento velocidade horaria (m/s)','region','state','station','station_code','latitude','longitude','height']\n",
    "renamed_columns_en = ['date','hour','total precipitation (mm)','pressao atmosferica ao nivel da estacao (mb)','atmospheric pressure max. in the previous hour (mb)','atmospheric pressure min. in the previous hour (mb)','radiation (kj/m2)','air temperature - dry bulb (°c)','dew point temperature (°c)','max. temperature in the previous hour (°c)','min. temperature in the previous hour (°c)','dew temperature max. in the previous hour (°c)','dew temperature min. in the previous hour (°c)','relative humidity max. in the previous hour (%)','relative humidity min. in the previous hour (%)','air relative humidity (%)','wind direction (° (gr))','wind rajada maxima (m/s)','wind speed (m/s)','region','state','station','station_code','latitude','longitude','height']\n",
    "abbreviation = ['date','hour','prcp', 'stp', 'smax', 'smin','gbrd','temp','dewp','tmax','tmin','dmax','dmin','hmax','hmin','hmdy','wdct', 'gust', 'wdsp', 'regi','prov','wsnm','inme','lat','lon','elvt']\n",
    "\n",
    "def process_raw(df):\n",
    "    \"\"\"\n",
    "    ! drop index\n",
    "    ! rename the columns\n",
    "    ! combine hour and date columns -> transform to date_time\n",
    "    ! append columns data from all stations to keep the data granularity\n",
    "    ! remove not useful columns\n",
    "    ! return table \n",
    "    \"\"\"\n",
    "    df.drop(['index'],inplace=True, axis=1)\n",
    "    df.columns = renamed_columns_en\n",
    "    df['date_time'] = pd.to_datetime(df['date'] + ' ' +  df['hour'])\n",
    "    #df.drop(['date','hour','regi','prov','wsnm','lat','lon','elvt'], inplace=True, axis=1)\n",
    "\n",
    "    station_codes = list(df.station_code.unique())\n",
    "    df_models = by_code(df,station_codes[0])\n",
    "    if len(station_codes)>1:\n",
    "        for i in station_codes[1:]:\n",
    "            df_temp = by_code(df,i)\n",
    "            df_models = pd.concat([df_models,df_temp],axis=1)\n",
    "    return df_models\n",
    "\n",
    "def by_code(df, station_code):\n",
    "    \"\"\"\n",
    "    ! function that filters the dataframe by station_code and rename the columns by the status code\n",
    "    \"\"\"\n",
    "    df_station = None\n",
    "    df_station = df[df['station_code'] == station_code]\n",
    "    df_station.index = df_station.iloc[:,-1]\n",
    "    df_station.drop(['station_code','date_time','radiation (kj/m2)'],axis=1,inplace=True)\n",
    "    df_station.columns = list(map(lambda x: station_code+'_'+x, df_station.columns))\n",
    "    return df_station\n",
    "\n",
    "def clean_na(df, na_value = -9999):\n",
    "    \"\"\" \n",
    "    ! replace Na from dataset\n",
    "    \"\"\"\n",
    "    df = df.replace(to_replace=na_value,value=np.NaN)\n",
    "    df = df[df.iloc[:,1].first_valid_index():]\n",
    "    df = df.fillna(method='ffill')\n",
    "    return df\n",
    "\n",
    "def make_dataset(stations, start_date, df):\n",
    "    \"\"\"\n",
    "    ! filter raw data from date and stations code\n",
    "    ! process data\n",
    "    ! clean na\n",
    "    \"\"\"\n",
    "    df = df[df['Data'] >= start_date]\n",
    "    df = df[df['station_code'].apply(lambda x: x in stations)]\n",
    "    df = process_raw(df)\n",
    "    df = clean_na(df)\n",
    "    return df.reset_index()\n"
   ]
  },
  {
   "cell_type": "code",
   "execution_count": null,
   "id": "e9da181c-3bb1-4691-9a76-73e17d99fdce",
   "metadata": {},
   "outputs": [],
   "source": [
    "from sklearn.metrics import mean_absolute_error, median_absolute_error\n",
    "\n",
    "def mean_abs_deviation(y):\n",
    "    return ((y - y.mean()).apply(abs)).mean()\n",
    "\n",
    "def median_abs_deviation(y):\n",
    "    return ((y - y.median()).apply(abs)).median()\n",
    "\n",
    "def create_metrics(y_test,y_pred):\n",
    "    ret = {}\n",
    "    ret['mean abs deviation'] = mean_abs_deviation(y_test)\n",
    "    ret['mean absolute error'] = mean_absolute_error(y_test, y_pred)\n",
    "    ret['median abs deviation'] = median_abs_deviation(y_test)\n",
    "    ret['median absolute error'] = median_absolute_error(y_test,y_pred)\n",
    "    return ret"
   ]
  },
  {
   "cell_type": "markdown",
   "id": "07add668-ad99-465c-bfe0-5b8effc400fc",
   "metadata": {},
   "source": [
    "# Importing and merging datasets"
   ]
  },
  {
   "cell_type": "code",
   "execution_count": null,
   "id": "e9a3cf56-ac5e-4892-b315-02ed25ba8915",
   "metadata": {},
   "outputs": [],
   "source": [
    "cw = pd.read_csv(\"central_west.csv\", nrows=10000)\n",
    "n = pd.read_csv(\"north.csv\", nrows=10000)\n",
    "ne = pd.read_csv(\"northeast.csv\", nrows=10000)\n",
    "s = pd.read_csv(\"south.csv\", nrows=10000)\n",
    "se = pd.read_csv(\"southeast.csv\", nrows=10000)"
   ]
  },
  {
   "cell_type": "code",
   "execution_count": null,
   "id": "eab4f2a1-6c7d-47dd-a0f7-52280d2b10de",
   "metadata": {},
   "outputs": [],
   "source": [
    "df = pd.concat([cw, n, ne, s, se], ignore_index=True)"
   ]
  },
  {
   "cell_type": "code",
   "execution_count": null,
   "id": "672ed871-3b01-4478-83f4-6b7c80d50166",
   "metadata": {},
   "outputs": [],
   "source": [
    "df = pd.read_csv(\"north.csv\")"
   ]
  },
  {
   "cell_type": "code",
   "execution_count": null,
   "id": "3fe48bf7-b198-4624-b6aa-4bc18403fd78",
   "metadata": {},
   "outputs": [],
   "source": [
    "df.head()"
   ]
  },
  {
   "cell_type": "markdown",
   "id": "33c8f114-0b41-4f10-a912-386933a625b7",
   "metadata": {},
   "source": [
    "## Processing/Cleaning Data"
   ]
  },
  {
   "cell_type": "code",
   "execution_count": null,
   "id": "ca8811d2-de94-490c-82af-5a8b1396db1b",
   "metadata": {},
   "outputs": [],
   "source": [
    "#drop index\n",
    "#rename the columns\n",
    "#combine hour and date columns -> transform to date_time\n",
    "#append columns data from all stations to keep the data granularity\n",
    "#remove not useful columns\n",
    "#return table "
   ]
  },
  {
   "cell_type": "code",
   "execution_count": null,
   "id": "8af424ee-711b-401d-8778-5eacb4a01e09",
   "metadata": {},
   "outputs": [],
   "source": [
    "df.drop(['index'],inplace=True, axis=1)"
   ]
  },
  {
   "cell_type": "code",
   "execution_count": null,
   "id": "bcb1b5da-e209-4240-9d98-f1d11abc90ab",
   "metadata": {},
   "outputs": [],
   "source": [
    "df.columns = renamed_columns_en\n"
   ]
  },
  {
   "cell_type": "code",
   "execution_count": null,
   "id": "c96c65b0-ca97-404b-993b-9918c29b5397",
   "metadata": {},
   "outputs": [],
   "source": [
    "df.rename(columns={'pressao atmosferica ao nivel da estacao (mb)':'atmospheric pressure at station level (mb)'}, inplace=True)"
   ]
  },
  {
   "cell_type": "code",
   "execution_count": null,
   "id": "9c4aa023-ba2e-4756-bc19-c505b7291d38",
   "metadata": {},
   "outputs": [],
   "source": [
    "df.rename(columns={'wind rajada maxima (m/s)':'maximum wind gust (m/s)'}, inplace=True)"
   ]
  },
  {
   "cell_type": "code",
   "execution_count": null,
   "id": "a790327f-03b9-43da-b748-b92a574f4d19",
   "metadata": {},
   "outputs": [],
   "source": [
    "#df.drop(['date','hour','regi','prov','wsnm','lat','lon','elvt'], inplace=True, axis=1)"
   ]
  },
  {
   "cell_type": "code",
   "execution_count": null,
   "id": "dcdf101a-00f1-496e-a2e0-a5a03bff287d",
   "metadata": {},
   "outputs": [],
   "source": [
    "df.head()"
   ]
  },
  {
   "cell_type": "code",
   "execution_count": null,
   "id": "79dd56ad-0603-4a45-941a-a9d44acaec11",
   "metadata": {},
   "outputs": [],
   "source": [
    "df['date_time'] = pd.to_datetime(df['date'] + ' ' +  df['hour'])"
   ]
  },
  {
   "cell_type": "code",
   "execution_count": null,
   "id": "4af84db2-68d9-4d79-a0e6-b78141d8bcb4",
   "metadata": {},
   "outputs": [],
   "source": [
    "df.tail()"
   ]
  },
  {
   "cell_type": "code",
   "execution_count": null,
   "id": "f943cfb4-8826-4a2c-a9f6-6d507e509e0d",
   "metadata": {},
   "outputs": [],
   "source": [
    "df.describe(include='all')"
   ]
  },
  {
   "cell_type": "code",
   "execution_count": null,
   "id": "59518844-f225-45df-bd05-c1603806ad19",
   "metadata": {},
   "outputs": [],
   "source": [
    "df.info()"
   ]
  },
  {
   "cell_type": "code",
   "execution_count": null,
   "id": "eb92f19a-ef0f-497d-ab73-37fd068d47be",
   "metadata": {},
   "outputs": [],
   "source": [
    "df.drop_duplicates(inplace=True)"
   ]
  },
  {
   "cell_type": "code",
   "execution_count": null,
   "id": "bb96b090-65c8-4cc6-a61e-95dcec49aca0",
   "metadata": {},
   "outputs": [],
   "source": [
    "df.shape"
   ]
  },
  {
   "cell_type": "code",
   "execution_count": null,
   "id": "8596b6fd-970e-43af-a79e-9fe0711b310c",
   "metadata": {},
   "outputs": [],
   "source": [
    "df.dropna(inplace=True)"
   ]
  },
  {
   "cell_type": "code",
   "execution_count": null,
   "id": "575cb4a2-3e46-4ec6-9b1b-1c139eec60c7",
   "metadata": {},
   "outputs": [],
   "source": [
    "df.shape"
   ]
  },
  {
   "cell_type": "code",
   "execution_count": null,
   "id": "ddce52c8-f818-40f2-a401-a2205a261a78",
   "metadata": {},
   "outputs": [],
   "source": [
    "for i in list(df.columns):\n",
    "    df = df.loc[df[i] != -9999]"
   ]
  },
  {
   "cell_type": "code",
   "execution_count": null,
   "id": "3ba2c39b-503f-47b1-9a22-67d0c4160e5c",
   "metadata": {},
   "outputs": [],
   "source": [
    "import seaborn as sns\n",
    "sns.boxplot(data=df['radiation (kj/m2)'], orient='h')\n",
    "plt.show()"
   ]
  },
  {
   "cell_type": "code",
   "execution_count": null,
   "id": "e9c764af-944e-4131-9aee-f3bbc3ee2d6d",
   "metadata": {},
   "outputs": [],
   "source": [
    "df.drop(columns=['station', 'station_code'], inplace=True)"
   ]
  },
  {
   "cell_type": "code",
   "execution_count": null,
   "id": "97680cd0-36ec-408f-8fe8-380d4188d78a",
   "metadata": {},
   "outputs": [],
   "source": [
    "print(list(df.columns))"
   ]
  },
  {
   "cell_type": "markdown",
   "id": "e9a894b4-2762-4e85-9210-643b71c23f9d",
   "metadata": {},
   "source": [
    "### Group by month"
   ]
  },
  {
   "cell_type": "code",
   "execution_count": null,
   "id": "11440cf2-57ba-4d6a-937f-ccdeb83657c9",
   "metadata": {},
   "outputs": [],
   "source": [
    "\n",
    "renamed = ['date','hour','total_prcp', 'station_pressure', 'pressure_max', 'pressure_min','air_temp','temp','dewp','tmax','tmin','dmax','dmin','hmax','hmin','hmdy','wdct', 'gust', 'wdsp', 'regi','prov','wsnm','inme','lat','lon','elvt']\n",
    "\n"
   ]
  },
  {
   "cell_type": "code",
   "execution_count": null,
   "id": "da8f18cb-1782-4b16-9ff6-ac50ba1989fd",
   "metadata": {},
   "outputs": [],
   "source": [
    "month = df.copy()\n",
    "#month_group = month.groupby(by=[month.date_time.month, month.date_time.year]).agg('mean')\n",
    "#month_group = month.groupby('state')\n",
    "#mean_month = month.resample(rule='M', on='date_time').agg('mean')\n",
    "#mean_month.head()\n",
    "#month_group.head()"
   ]
  },
  {
   "cell_type": "code",
   "execution_count": null,
   "id": "5caea784-2d25-4c32-937c-dba04084b1c9",
   "metadata": {},
   "outputs": [],
   "source": [
    "mean_month.shape"
   ]
  },
  {
   "cell_type": "code",
   "execution_count": null,
   "id": "d2e1e536-b793-4033-8f7f-ba0604aecee7",
   "metadata": {},
   "outputs": [],
   "source": [
    "mean_month.tail()"
   ]
  },
  {
   "cell_type": "code",
   "execution_count": null,
   "id": "2a333040-fdd4-4710-9827-0ad7033afa3b",
   "metadata": {},
   "outputs": [],
   "source": [
    "mean_month['region'] = 'SE'"
   ]
  },
  {
   "cell_type": "code",
   "execution_count": null,
   "id": "622249f3-c285-4fcb-9513-f0d48407cf49",
   "metadata": {},
   "outputs": [],
   "source": [
    "mean_month.head()"
   ]
  },
  {
   "cell_type": "code",
   "execution_count": null,
   "id": "5a6a7983-5632-4b14-b7e7-b4b0754e0886",
   "metadata": {},
   "outputs": [],
   "source": [
    "mean_month.to_csv(\"SE_monthly_rad.csv\")"
   ]
  },
  {
   "cell_type": "markdown",
   "id": "def4faa5-3392-460e-aee0-94b38d48edd3",
   "metadata": {},
   "source": [
    "## Group by day"
   ]
  },
  {
   "cell_type": "code",
   "execution_count": null,
   "id": "02b6336d-fe80-420d-9cfd-0d07cb145b07",
   "metadata": {},
   "outputs": [],
   "source": [
    "mean_day = month.resample(rule='D', on='date_time').agg('mean')\n",
    "mean_day.head()"
   ]
  },
  {
   "cell_type": "code",
   "execution_count": null,
   "id": "b656d055-6600-4824-8329-4871ba0f0c2f",
   "metadata": {},
   "outputs": [],
   "source": [
    "mean_day.shape"
   ]
  },
  {
   "cell_type": "code",
   "execution_count": null,
   "id": "cf35df48-a488-4464-8bc8-2545f1ded270",
   "metadata": {},
   "outputs": [],
   "source": [
    "mean_day['region'] = 'SE'"
   ]
  },
  {
   "cell_type": "code",
   "execution_count": null,
   "id": "5f9bff79-518e-4079-a2ef-50f2de3f197f",
   "metadata": {},
   "outputs": [],
   "source": [
    "mean_day.to_csv(\"SE_daily_rad.csv\")"
   ]
  },
  {
   "cell_type": "markdown",
   "id": "1797dd74-91d3-42ee-a39a-f00752a06d7b",
   "metadata": {},
   "source": [
    "## Group by hour"
   ]
  },
  {
   "cell_type": "code",
   "execution_count": null,
   "id": "60734cee-e848-4b24-ba62-0dd816f235a4",
   "metadata": {},
   "outputs": [],
   "source": [
    "mean_hour = month.resample(rule='H', on='date_time').agg('mean')\n",
    "mean_hour.head()"
   ]
  },
  {
   "cell_type": "code",
   "execution_count": null,
   "id": "7b937e87-bf61-443c-9406-b4ce950ace0b",
   "metadata": {},
   "outputs": [],
   "source": [
    "mean_hour['region'] = 'N'"
   ]
  },
  {
   "cell_type": "code",
   "execution_count": null,
   "id": "0a68da70-d232-4abd-a815-e4c3660e72b9",
   "metadata": {},
   "outputs": [],
   "source": [
    "mean_hour.shape"
   ]
  },
  {
   "cell_type": "code",
   "execution_count": null,
   "id": "f650aec2-4b98-4c27-a8b9-e0e548d88f54",
   "metadata": {},
   "outputs": [],
   "source": [
    "mean_hour.tail()"
   ]
  },
  {
   "cell_type": "code",
   "execution_count": null,
   "id": "6776f93d-fa2d-4b31-9870-ed8360630415",
   "metadata": {},
   "outputs": [],
   "source": [
    "mean_hour.to_csv(\"N_hourly_rad.csv\")"
   ]
  },
  {
   "cell_type": "markdown",
   "id": "5795690e-f74e-454e-8149-9b838279aae3",
   "metadata": {},
   "source": [
    "## Group by state"
   ]
  },
  {
   "cell_type": "code",
   "execution_count": null,
   "id": "bed788c0-60f4-4694-9c78-7d37603fd3b3",
   "metadata": {},
   "outputs": [],
   "source": [
    "df.state.unique()"
   ]
  },
  {
   "cell_type": "code",
   "execution_count": null,
   "id": "b6e70108-f071-4cc4-862e-d98409271988",
   "metadata": {},
   "outputs": [],
   "source": [
    "state = df.copy()\n",
    "state_df = state.groupby('state').agg('mean')\n",
    "state_df.head()"
   ]
  },
  {
   "cell_type": "code",
   "execution_count": null,
   "id": "e5b5a0c6-67ef-4c76-bbb2-3c27cb4e4a18",
   "metadata": {},
   "outputs": [],
   "source": [
    "state_df.shape"
   ]
  },
  {
   "cell_type": "code",
   "execution_count": null,
   "id": "f0601f60-51cd-4284-9d20-b5b6dad833d3",
   "metadata": {},
   "outputs": [],
   "source": [
    "state_df.to_csv('SE_state_rad.csv')"
   ]
  },
  {
   "cell_type": "code",
   "execution_count": null,
   "id": "b201b446-a046-4cd4-b533-363d10aef97f",
   "metadata": {},
   "outputs": [],
   "source": []
  },
  {
   "cell_type": "code",
   "execution_count": null,
   "id": "29adc067-b3fc-45e9-b4ed-8cf3b9842489",
   "metadata": {},
   "outputs": [],
   "source": [
    "#df.to_csv(\"brazil_weather_data.csv\", index=False)"
   ]
  },
  {
   "cell_type": "code",
   "execution_count": null,
   "id": "e1b04ed2-1160-4826-bd14-62b7f6759496",
   "metadata": {},
   "outputs": [],
   "source": []
  }
 ],
 "metadata": {
  "kernelspec": {
   "display_name": "Python 3 (ipykernel)",
   "language": "python",
   "name": "python3"
  },
  "language_info": {
   "codemirror_mode": {
    "name": "ipython",
    "version": 3
   },
   "file_extension": ".py",
   "mimetype": "text/x-python",
   "name": "python",
   "nbconvert_exporter": "python",
   "pygments_lexer": "ipython3",
   "version": "3.9.12"
  }
 },
 "nbformat": 4,
 "nbformat_minor": 5
}
